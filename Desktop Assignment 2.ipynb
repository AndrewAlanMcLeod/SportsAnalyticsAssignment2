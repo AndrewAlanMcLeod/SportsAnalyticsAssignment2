{
 "cells": [
  {
   "cell_type": "code",
   "execution_count": 4,
   "id": "abca4ff8",
   "metadata": {},
   "outputs": [],
   "source": [
    "import matplotlib.pyplot as plt\n",
    "from matplotlib.patches import Arc\n"
   ]
  },
  {
   "cell_type": "code",
   "execution_count": 8,
   "id": "3dfc0ed9",
   "metadata": {},
   "outputs": [
    {
     "data": {
      "image/png": "[encoded data removed]",
      "text/plain": [
       "<Figure size 432x288 with 1 Axes>"
      ]
     },
     "metadata": {
      "needs_background": "light"
     },
     "output_type": "display_data"
    }
   ],
   "source": [
    "fig=plt.figure()\n",
    "ax=fig.add_subplot(1,1,1)\n",
    "\n",
    "\n",
    "plt.plot([10,110],[70,70], color=\"black\")\n",
    "plt.plot([.8,.8],[60.9,9.3], color=\"black\")\n",
    "plt.plot([119.2,119.2],[60.9,9.3], color=\"black\")\n",
    "plt.plot([110,10],[0,0], color=\"black\")\n",
    "plt.plot([60,60],[0,70], color=\"red\")\n",
    "plt.plot([60,60],[0,70], color=\"red\")\n",
    "plt.plot([40,40],[0,70], color=\"blue\")\n",
    "plt.plot([80,80],[0,70], color=\"blue\")\n",
    "plt.plot([7,7],[1,69], color=\"red\")\n",
    "plt.plot([113,113],[1,69], color=\"red\")\n",
    "\n",
    "centreCircle = plt.Circle((60,35),15,color=\"red\",fill=False)\n",
    "centreSpot = plt.Circle((60,35),1.25,color=\"red\")\n",
    "FaceOffDot1 = plt.Circle((45,55),1.25,color=\"red\")\n",
    "FaceOffDot2 = plt.Circle((45,15),1.25,color=\"red\")\n",
    "FaceOffDot3 = plt.Circle((75,15),1.25,color=\"red\")\n",
    "FaceOffDot4 = plt.Circle((75,55),1.25,color=\"red\")\n",
    "\n",
    "FaceOffDot5 = plt.Circle((95,55),1.25,color=\"red\")\n",
    "FaceOffDot6 = plt.Circle((95,15),1.25,color=\"red\")\n",
    "FaceOffDot7 = plt.Circle((25,15),1.25,color=\"red\")\n",
    "FaceOffDot8 = plt.Circle((25,55),1.25,color=\"red\")\n",
    "\n",
    "\n",
    "FaceOffCircle1 = plt.Circle((95,55),10,color=\"red\",fill=False)\n",
    "FaceOffCircle2 = plt.Circle((95,15),10,color=\"red\",fill=False)\n",
    "FaceOffCircle3 = plt.Circle((25,55),10,color=\"red\",fill=False)\n",
    "FaceOffCircle4 = plt.Circle((25,15),10,color=\"red\",fill=False)\n",
    "\n",
    "#Draw the circles to our plot\n",
    "ax.add_patch(centreCircle)\n",
    "ax.add_patch(centreSpot)\n",
    "ax.add_patch(FaceOffDot1)\n",
    "ax.add_patch(FaceOffDot2)\n",
    "ax.add_patch(FaceOffDot3)\n",
    "ax.add_patch(FaceOffDot4)\n",
    "ax.add_patch(FaceOffDot5)\n",
    "ax.add_patch(FaceOffDot6)\n",
    "ax.add_patch(FaceOffDot7)\n",
    "ax.add_patch(FaceOffDot8)\n",
    "ax.add_patch(FaceOffCircle1)\n",
    "ax.add_patch(FaceOffCircle2)\n",
    "ax.add_patch(FaceOffCircle3)\n",
    "ax.add_patch(FaceOffCircle4)\n",
    "\n",
    "\n",
    "leftArc1 = Arc((10,60.9),height=18.3,width=18.3,angle=0,theta1=90,theta2=180,color=\"black\")\n",
    "leftArc2 = Arc((10,9.3),height=18.3,width=18.3,angle=0,theta1=180,theta2=270,color=\"black\")\n",
    "leftArc3 = Arc((7,35),height=18.3,width=18.3,angle=0,theta1=270,theta2=450,color=\"red\")\n",
    "rightArc1 = Arc((110,60.9),height=18.3,width=18.3,angle=0,theta1=0,theta2=90,color=\"black\")\n",
    "rightArc2 = Arc((110,9.3),height=18.3,width=18.3,angle=0,theta1=270,theta2=360,color=\"black\")\n",
    "rightArc3 = Arc((113,35),height=18.3,width=18.3,angle=0,theta1=90,theta2=270,color=\"red\")\n",
    "\n",
    "\n",
    "\n",
    "\n",
    "ax.add_patch(leftArc1)\n",
    "ax.add_patch(leftArc2)\n",
    "ax.add_patch(leftArc3)\n",
    "ax.add_patch(rightArc1)\n",
    "ax.add_patch(rightArc2)\n",
    "ax.add_patch(rightArc3)\n",
    "plt.axis('off')\n",
    "plt.savefig('RinkAssignment2.png')\n",
    "plt.show()\n"
   ]
  },
  {
   "cell_type": "code",
   "execution_count": null,
   "id": "60ef2d45",
   "metadata": {},
   "outputs": [],
   "source": []
  }
 ],
 "metadata": {
  "kernelspec": {
   "display_name": "Python 3",
   "language": "python",
   "name": "python3"
  },
  "language_info": {
   "codemirror_mode": {
    "name": "ipython",
    "version": 3
   },
   "file_extension": ".py",
   "mimetype": "text/x-python",
   "name": "python",
   "nbconvert_exporter": "python",
   "pygments_lexer": "ipython3",
   "version": "3.8.8"
  }
 },
 "nbformat": 4,
 "nbformat_minor": 5
}
